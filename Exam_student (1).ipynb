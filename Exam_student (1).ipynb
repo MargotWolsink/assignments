{
 "cells": [
  {
   "cell_type": "markdown",
   "metadata": {},
   "source": [
    "\"Margot Wolsink 2009813\" \n",
    "collaborator: \"Anthony van den Berg 2011118\""
   ]
  },
  {
   "cell_type": "markdown",
   "metadata": {},
   "source": [
    "# Exam R\n",
    "Mark Klik & Misja Mikkers\n",
    "\n",
    "# Introduction\n",
    "\n",
    "The exam consists of 2 parts. In the first part, you have to run a regression, test if the assumptions of a linear regression model are met, and make 2 graphs.\n",
    "\n",
    "In the second part of the exam, you will have to make a map of Catholic and Protestant schools in the Netherlands.\n",
    "\n",
    "# Packages\n"
   ]
  },
  {
   "cell_type": "code",
   "execution_count": 328,
   "metadata": {},
   "outputs": [],
   "source": [
    "library(tidyverse)\n",
    "library(gvlma)"
   ]
  },
  {
   "cell_type": "markdown",
   "metadata": {},
   "source": [
    "# Assignment 1\n",
    "\n",
    "\n",
    "## Data\n",
    "\n",
    "The data are given:\n"
   ]
  },
  {
   "cell_type": "code",
   "execution_count": 329,
   "metadata": {},
   "outputs": [],
   "source": [
    "set.seed(123)\n",
    "df1 <- as.data.frame(matrix(runif(1*50, min = 1, max = 10), ncol = 1)) %>%\n",
    "    mutate(epsilon = rnorm(50, mean = 0, sd = 2)) %>%\n",
    "    mutate(response = 3 - 2* V1  + epsilon) %>%\n",
    "    mutate(group = ifelse(V1 <= 5, 1,2))"
   ]
  },
  {
   "cell_type": "markdown",
   "metadata": {},
   "source": [
    "## Asignment 1a\n",
    "\n",
    "The first assigment is to make boxplot using ggplot with group on the x-axis and V1 on the y-axis."
   ]
  },
  {
   "cell_type": "code",
   "execution_count": 330,
   "metadata": {},
   "outputs": [
    {
     "data": {},
     "metadata": {},
     "output_type": "display_data"
    },
    {
     "data": {
      "image/png": "[encoded data removed]",
      "text/plain": [
       "plot without title"
      ]
     },
     "metadata": {},
     "output_type": "display_data"
    }
   ],
   "source": [
    "ggplot(df1, aes( x= group, y=V1, group=group)) + geom_boxplot()"
   ]
  },
  {
   "cell_type": "markdown",
   "metadata": {},
   "source": [
    "We learned in order to make a box plot we use geom_boxplot(),  since it gave an error that group is an continuous value and we should define group= \"...\"\n",
    "I decided to do it like this because it gives a better overview."
   ]
  },
  {
   "cell_type": "markdown",
   "metadata": {},
   "source": [
    "## Assignment 1b\n",
    "\n",
    "Run a regression with response variable as a function of V1.\n",
    "Show the summary statistics of the regression.\n"
   ]
  },
  {
   "cell_type": "code",
   "execution_count": 331,
   "metadata": {},
   "outputs": [
    {
     "data": {
      "text/plain": [
       "\n",
       "Call:\n",
       "lm(formula = response ~ V1, data = df1)\n",
       "\n",
       "Residuals:\n",
       "    Min      1Q  Median      3Q     Max \n",
       "-4.5116 -1.1157 -0.1313  1.0985  4.3723 \n",
       "\n",
       "Coefficients:\n",
       "            Estimate Std. Error t value Pr(>|t|)    \n",
       "(Intercept)   2.6305     0.6347   4.145 0.000138 ***\n",
       "V1           -1.9152     0.1014 -18.880  < 2e-16 ***\n",
       "---\n",
       "Signif. codes:  0 '***' 0.001 '**' 0.01 '*' 0.05 '.' 0.1 ' ' 1\n",
       "\n",
       "Residual standard error: 1.881 on 48 degrees of freedom\n",
       "Multiple R-squared:  0.8813,\tAdjusted R-squared:  0.8788 \n",
       "F-statistic: 356.4 on 1 and 48 DF,  p-value: < 2.2e-16\n"
      ]
     },
     "metadata": {},
     "output_type": "display_data"
    }
   ],
   "source": [
    "reg1 <- regression <- lm(data=df1, response ~ V1)\n",
    "summary(reg1)"
   ]
  },
  {
   "cell_type": "markdown",
   "metadata": {},
   "source": [
    "We learned from the tutorial in order to do a regression you must use lm() and define the data in there with response as a function of V1\n",
    "Then we see the summary of correlation et cetera of the two variables."
   ]
  },
  {
   "cell_type": "markdown",
   "metadata": {},
   "source": [
    "check if the assumptions of linear regression are met with the `gvlma()` function."
   ]
  },
  {
   "cell_type": "code",
   "execution_count": 332,
   "metadata": {},
   "outputs": [
    {
     "data": {
      "text/plain": [
       "\n",
       "Call:\n",
       "lm(formula = response ~ V1, data = df1)\n",
       "\n",
       "Coefficients:\n",
       "(Intercept)           V1  \n",
       "      2.630       -1.915  \n",
       "\n",
       "\n",
       "ASSESSMENT OF THE LINEAR MODEL ASSUMPTIONS\n",
       "USING THE GLOBAL TEST ON 4 DEGREES-OF-FREEDOM:\n",
       "Level of Significance =  0.05 \n",
       "\n",
       "Call:\n",
       " gvlma(x = reg1) \n",
       "\n",
       "                      Value p-value                Decision\n",
       "Global Stat        0.654319  0.9568 Assumptions acceptable.\n",
       "Skewness           0.002398  0.9609 Assumptions acceptable.\n",
       "Kurtosis           0.007200  0.9324 Assumptions acceptable.\n",
       "Link Function      0.005852  0.9390 Assumptions acceptable.\n",
       "Heteroscedasticity 0.638869  0.4241 Assumptions acceptable."
      ]
     },
     "metadata": {},
     "output_type": "display_data"
    }
   ],
   "source": [
    "gvlma(reg1)"
   ]
  },
  {
   "cell_type": "markdown",
   "metadata": {},
   "source": [
    "the gvlma function tells us if all the assumptions in order to have a good regression are met. We have installed it earlier and also used it in the tutorial so we can just use it here again."
   ]
  },
  {
   "cell_type": "markdown",
   "metadata": {},
   "source": [
    "## Assignment 1c\n",
    "\n",
    "Make a scatterplot with: \n",
    "* V1 on the x-axis and the response on the y-axis\n",
    "* Include the regression line in red with confidence interval \n",
    "* In a classic theme\n",
    "* The x-axis should be labeled \"Predictor\", the y-axis should be labeled (\"Response\")\n",
    "\n"
   ]
  },
  {
   "cell_type": "code",
   "execution_count": 333,
   "metadata": {},
   "outputs": [
    {
     "data": {},
     "metadata": {},
     "output_type": "display_data"
    },
    {
     "data": {
      "image/png": "[encoded data removed]",
      "text/plain": [
       "plot without title"
      ]
     },
     "metadata": {},
     "output_type": "display_data"
    }
   ],
   "source": [
    "ggplot(data= reg1, aes( x= V1, y= response)) + geom_point() +\n",
    "geom_smooth( method=\"lm\", se=TRUE, col='red')+\n",
    "theme_classic()+ xlab(\"Predictor\")+ ylab(\"Response\")"
   ]
  },
  {
   "cell_type": "markdown",
   "metadata": {},
   "source": [
    "First, we use ggplot to scatterplot the regression. Then we add a regression line and in order to have the confidence interval we must put se=\"True\". The exercise states we must color the line red so we just set col to red. Classic theme and labelling are used too."
   ]
  },
  {
   "cell_type": "markdown",
   "metadata": {},
   "source": [
    "# Assigment 2\n",
    "\n",
    "# Packages"
   ]
  },
  {
   "cell_type": "code",
   "execution_count": 334,
   "metadata": {},
   "outputs": [],
   "source": [
    "library(thematicmaps)\n",
    "library(tidyverse)"
   ]
  },
  {
   "cell_type": "markdown",
   "metadata": {},
   "source": [
    "## Assignment 2a\n",
    "\n",
    "First you have to read in the file \"nld_municipal_map.csv\".\n",
    "Hint: Look at the notebook of week 6 about maps."
   ]
  },
  {
   "cell_type": "code",
   "execution_count": 335,
   "metadata": {},
   "outputs": [
    {
     "data": {
      "text/html": [
       "<table>\n",
       "<thead><tr><th scope=col>name</th><th scope=col>id</th><th scope=col>x</th><th scope=col>y</th><th scope=col>order</th><th scope=col>hole</th><th scope=col>piece</th><th scope=col>group</th></tr></thead>\n",
       "<tbody>\n",
       "\t<tr><td>Appingedam</td><td>0         </td><td>251260.5  </td><td>594393.8  </td><td>1         </td><td>FALSE     </td><td>1         </td><td>0.1       </td></tr>\n",
       "\t<tr><td>Appingedam</td><td>0         </td><td>251427.8  </td><td>594486.7  </td><td>2         </td><td>FALSE     </td><td>1         </td><td>0.1       </td></tr>\n",
       "\t<tr><td>Appingedam</td><td>0         </td><td>251668.8  </td><td>594646.8  </td><td>3         </td><td>FALSE     </td><td>1         </td><td>0.1       </td></tr>\n",
       "\t<tr><td>Appingedam</td><td>0         </td><td>251713.5  </td><td>594770.9  </td><td>4         </td><td>FALSE     </td><td>1         </td><td>0.1       </td></tr>\n",
       "\t<tr><td>Appingedam</td><td>0         </td><td>251354.6  </td><td>595461.4  </td><td>5         </td><td>FALSE     </td><td>1         </td><td>0.1       </td></tr>\n",
       "\t<tr><td>Appingedam</td><td>0         </td><td>251310.3  </td><td>596022.5  </td><td>6         </td><td>FALSE     </td><td>1         </td><td>0.1       </td></tr>\n",
       "</tbody>\n",
       "</table>\n"
      ],
      "text/latex": [
       "\\begin{tabular}{r|llllllll}\n",
       " name & id & x & y & order & hole & piece & group\\\\\n",
       "\\hline\n",
       "\t Appingedam & 0          & 251260.5   & 594393.8   & 1          & FALSE      & 1          & 0.1       \\\\\n",
       "\t Appingedam & 0          & 251427.8   & 594486.7   & 2          & FALSE      & 1          & 0.1       \\\\\n",
       "\t Appingedam & 0          & 251668.8   & 594646.8   & 3          & FALSE      & 1          & 0.1       \\\\\n",
       "\t Appingedam & 0          & 251713.5   & 594770.9   & 4          & FALSE      & 1          & 0.1       \\\\\n",
       "\t Appingedam & 0          & 251354.6   & 595461.4   & 5          & FALSE      & 1          & 0.1       \\\\\n",
       "\t Appingedam & 0          & 251310.3   & 596022.5   & 6          & FALSE      & 1          & 0.1       \\\\\n",
       "\\end{tabular}\n"
      ],
      "text/markdown": [
       "\n",
       "name | id | x | y | order | hole | piece | group | \n",
       "|---|---|---|---|---|---|\n",
       "| Appingedam | 0          | 251260.5   | 594393.8   | 1          | FALSE      | 1          | 0.1        | \n",
       "| Appingedam | 0          | 251427.8   | 594486.7   | 2          | FALSE      | 1          | 0.1        | \n",
       "| Appingedam | 0          | 251668.8   | 594646.8   | 3          | FALSE      | 1          | 0.1        | \n",
       "| Appingedam | 0          | 251713.5   | 594770.9   | 4          | FALSE      | 1          | 0.1        | \n",
       "| Appingedam | 0          | 251354.6   | 595461.4   | 5          | FALSE      | 1          | 0.1        | \n",
       "| Appingedam | 0          | 251310.3   | 596022.5   | 6          | FALSE      | 1          | 0.1        | \n",
       "\n",
       "\n"
      ],
      "text/plain": [
       "  name       id x        y        order hole  piece group\n",
       "1 Appingedam 0  251260.5 594393.8 1     FALSE 1     0.1  \n",
       "2 Appingedam 0  251427.8 594486.7 2     FALSE 1     0.1  \n",
       "3 Appingedam 0  251668.8 594646.8 3     FALSE 1     0.1  \n",
       "4 Appingedam 0  251713.5 594770.9 4     FALSE 1     0.1  \n",
       "5 Appingedam 0  251354.6 595461.4 5     FALSE 1     0.1  \n",
       "6 Appingedam 0  251310.3 596022.5 6     FALSE 1     0.1  "
      ]
     },
     "metadata": {},
     "output_type": "display_data"
    }
   ],
   "source": [
    "map_municipal <- read.csv2(\"../Sourcedata/nld_municipal_map.csv\", stringsAsFactors = FALSE, dec = \".\")\n",
    "head(map_municipal)"
   ]
  },
  {
   "cell_type": "markdown",
   "metadata": {},
   "source": [
    "We used the read.csv2 function to import the data on municipalities in the Netherlands."
   ]
  },
  {
   "cell_type": "markdown",
   "metadata": {},
   "source": [
    "## Assignment 2b\n",
    "\n",
    "Now you can make an empty map of the Netherlands."
   ]
  },
  {
   "cell_type": "code",
   "execution_count": 336,
   "metadata": {},
   "outputs": [
    {
     "data": {},
     "metadata": {},
     "output_type": "display_data"
    },
    {
     "data": {
      "image/png": "[encoded data removed]",
      "text/plain": [
       "plot without title"
      ]
     },
     "metadata": {},
     "output_type": "display_data"
    }
   ],
   "source": [
    "AddMapLayer(MapPlot(), map_municipal)"
   ]
  },
  {
   "cell_type": "markdown",
   "metadata": {},
   "source": [
    "We use the mapplotting function to plot the Netherlands and the data we use is map municipal"
   ]
  },
  {
   "cell_type": "markdown",
   "metadata": {},
   "source": [
    "## Assignment 2c\n",
    "\n",
    "Read in the pc4 locations (nld_pc4_locations.csv).\n",
    "\n",
    "Hint: Don't forget the X and Y should be numeric variables!"
   ]
  },
  {
   "cell_type": "code",
   "execution_count": 337,
   "metadata": {},
   "outputs": [
    {
     "name": "stdout",
     "output_type": "stream",
     "text": [
      "'data.frame':\t4066 obs. of  3 variables:\n",
      " $ PC4: int  1011 1012 1013 1014 1015 1016 1017 1018 1019 1021 ...\n",
      " $ X  : num  122244 121613 120325 119515 120740 ...\n",
      " $ Y  : num  487223 487555 489672 489422 488009 ...\n"
     ]
    }
   ],
   "source": [
    "pc4_locations <- pc4_locations <- read.csv2(\"../Sourcedata/nld_pc4_locations.csv\")%>%\n",
    "  mutate(X = as.numeric(as.character(X))) %>%\n",
    "   mutate(Y = as.numeric(as.character(Y)))\n",
    "\n",
    "str(pc4_locations)"
   ]
  },
  {
   "cell_type": "markdown",
   "metadata": {},
   "source": [
    "Now we import postcode locations and make sure we mutate them to numeric otherwise we would get errors later."
   ]
  },
  {
   "cell_type": "markdown",
   "metadata": {},
   "source": [
    "## Assignment 2d\n",
    "\n",
    "### 2di\n",
    "\n",
    "Read in the school data\n"
   ]
  },
  {
   "cell_type": "code",
   "execution_count": 338,
   "metadata": {},
   "outputs": [],
   "source": [
    "schools <- read.csv2(\"../Sourcedata/schools.csv\")"
   ]
  },
  {
   "cell_type": "markdown",
   "metadata": {},
   "source": [
    "we read the school data from the Netherlands and assign it to schools."
   ]
  },
  {
   "cell_type": "markdown",
   "metadata": {},
   "source": [
    "### 2dii\n",
    "\n",
    "First, create a new dataframe schools1, which is equal to schools.\n",
    "\n",
    "As you see POSTCODE has a structure of (1234 AB). You should create a new variable PC4 that is equal to the first 4 numbers in POSTCODE\n",
    "\n",
    "Hint: Use the function `substr()`\n",
    "\n",
    "Then select the variables PC4 and DENOMINATIE"
   ]
  },
  {
   "cell_type": "code",
   "execution_count": 339,
   "metadata": {},
   "outputs": [],
   "source": [
    "PC4= substr(schools$POSTCODE, start=0, stop=4) \n",
    "PC4= as.numeric(PC4)"
   ]
  },
  {
   "cell_type": "code",
   "execution_count": 340,
   "metadata": {
    "scrolled": true
   },
   "outputs": [
    {
     "data": {
      "text/html": [
       "<ol class=list-inline>\n",
       "\t<li>'PC4'</li>\n",
       "\t<li>'DENOMINATIE'</li>\n",
       "</ol>\n"
      ],
      "text/latex": [
       "\\begin{enumerate*}\n",
       "\\item 'PC4'\n",
       "\\item 'DENOMINATIE'\n",
       "\\end{enumerate*}\n"
      ],
      "text/markdown": [
       "1. 'PC4'\n",
       "2. 'DENOMINATIE'\n",
       "\n",
       "\n"
      ],
      "text/plain": [
       "[1] \"PC4\"         \"DENOMINATIE\""
      ]
     },
     "metadata": {},
     "output_type": "display_data"
    }
   ],
   "source": [
    "schools1 <- schools %>%\n",
    "    mutate(PC4)\n",
    "\n",
    "schools1 <- select(schools1, PC4, DENOMINATIE)\n",
    "names(schools1)"
   ]
  },
  {
   "cell_type": "markdown",
   "metadata": {},
   "source": [
    "we use the substring function on the column postcode and select the first digit to the 4th digit. We also need to set PC4 to numeric because otherwise we again get errors later. Then we mutate the old dataset and add the new column PC4. then we use the select function to select the columns PC4 and DENOMINATIE."
   ]
  },
  {
   "cell_type": "markdown",
   "metadata": {},
   "source": [
    "### 2diii\n",
    "\n",
    "Create the dataframe school_loc as a join from pc4_locations and school1 that combines the columns from both data frames, but only keeps rows where the value in the pc4_locations column matches in both data frames.\n",
    "And then select the observations with DENOMINATIE is equal to \"Rooms-Katholiek\" or \"Protestants-Christelijk\""
   ]
  },
  {
   "cell_type": "markdown",
   "metadata": {},
   "source": [
    "We merge the two datasets together with the inner_join function and let them merge on values they share which is PC4. We then assign this merged dataset to school_loc."
   ]
  },
  {
   "cell_type": "code",
   "execution_count": 341,
   "metadata": {
    "scrolled": true
   },
   "outputs": [
    {
     "data": {
      "text/html": [
       "<table>\n",
       "<thead><tr><th scope=col>PC4</th><th scope=col>DENOMINATIE</th><th scope=col>X</th><th scope=col>Y</th></tr></thead>\n",
       "<tbody>\n",
       "\t<tr><td>9406                   </td><td>Openbaar               </td><td>231892.2               </td><td>557973.9               </td></tr>\n",
       "\t<tr><td>9401                   </td><td>Openbaar               </td><td>233493.0               </td><td>556417.8               </td></tr>\n",
       "\t<tr><td>9402                   </td><td>Openbaar               </td><td>233609.0               </td><td>558009.3               </td></tr>\n",
       "\t<tr><td>9331                   </td><td>Openbaar               </td><td>227729.6               </td><td>565502.0               </td></tr>\n",
       "\t<tr><td>9411                   </td><td>Openbaar               </td><td>230301.1               </td><td>541915.0               </td></tr>\n",
       "\t<tr><td>9461                   </td><td>Openbaar               </td><td>247920.2               </td><td>558870.0               </td></tr>\n",
       "\t<tr><td>9402                   </td><td>Openbaar               </td><td>233609.0               </td><td>558009.3               </td></tr>\n",
       "\t<tr><td>9402                   </td><td>Openbaar               </td><td>233609.0               </td><td>558009.3               </td></tr>\n",
       "\t<tr><td>9403                   </td><td>Openbaar               </td><td>236027.7               </td><td>558517.2               </td></tr>\n",
       "\t<tr><td>9406                   </td><td>Openbaar               </td><td>231892.2               </td><td>557973.9               </td></tr>\n",
       "\t<tr><td>7905                   </td><td>Openbaar               </td><td>230638.5               </td><td>525908.4               </td></tr>\n",
       "\t<tr><td>7905                   </td><td>Openbaar               </td><td>230638.5               </td><td>525908.4               </td></tr>\n",
       "\t<tr><td>7905                   </td><td>Openbaar               </td><td>230638.5               </td><td>525908.4               </td></tr>\n",
       "\t<tr><td>7905                   </td><td>Openbaar               </td><td>230638.5               </td><td>525908.4               </td></tr>\n",
       "\t<tr><td>7905                   </td><td>Openbaar               </td><td>230638.5               </td><td>525908.4               </td></tr>\n",
       "\t<tr><td>9404                   </td><td>Algemeen bijzonder     </td><td>235762.2               </td><td>556213.9               </td></tr>\n",
       "\t<tr><td>9761                   </td><td>Algemeen bijzonder     </td><td>235111.1               </td><td>572622.2               </td></tr>\n",
       "\t<tr><td>7812                   </td><td>Algemeen bijzonder     </td><td>256416.6               </td><td>531731.3               </td></tr>\n",
       "\t<tr><td>7944                   </td><td>Algemeen bijzonder     </td><td>208812.5               </td><td>522321.5               </td></tr>\n",
       "\t<tr><td>7944                   </td><td>Algemeen bijzonder     </td><td>208812.5               </td><td>522321.5               </td></tr>\n",
       "\t<tr><td>7824                   </td><td>Rooms-Katholiek        </td><td>258731.5               </td><td>533917.2               </td></tr>\n",
       "\t<tr><td>9301                   </td><td>Algemeen bijzonder     </td><td>224232.0               </td><td>572595.4               </td></tr>\n",
       "\t<tr><td>9301                   </td><td>Algemeen bijzonder     </td><td>224232.0               </td><td>572595.4               </td></tr>\n",
       "\t<tr><td>7902                   </td><td>Protestants-Christelijk</td><td>229332.2               </td><td>526942.5               </td></tr>\n",
       "\t<tr><td>7903                   </td><td>Protestants-Christelijk</td><td>230467.0               </td><td>527833.3               </td></tr>\n",
       "\t<tr><td>7822                   </td><td>Protestants-Christelijk</td><td>257598.1               </td><td>534933.7               </td></tr>\n",
       "\t<tr><td>7825                   </td><td>Algemeen bijzonder     </td><td>259003.6               </td><td>531498.7               </td></tr>\n",
       "\t<tr><td>7943                   </td><td>Openbaar               </td><td>211244.3               </td><td>523147.6               </td></tr>\n",
       "\t<tr><td>7943                   </td><td>Openbaar               </td><td>211244.3               </td><td>523147.6               </td></tr>\n",
       "\t<tr><td>7943                   </td><td>Openbaar               </td><td>211244.3               </td><td>523147.6               </td></tr>\n",
       "\t<tr><td>...</td><td>...</td><td>...</td><td>...</td></tr>\n",
       "\t<tr><td>2231                       </td><td>Protestants-Christelijk    </td><td> 90661.54                  </td><td>468286.3                   </td></tr>\n",
       "\t<tr><td>2313                       </td><td>Rooms-Katholiek            </td><td> 94304.57                  </td><td>463027.2                   </td></tr>\n",
       "\t<tr><td>2371                       </td><td>Rooms-Katholiek            </td><td>103153.85                  </td><td>467993.8                   </td></tr>\n",
       "\t<tr><td>2334                       </td><td>Rooms-Katholiek            </td><td> 93102.05                  </td><td>465515.2                   </td></tr>\n",
       "\t<tr><td>2334                       </td><td>Rooms-Katholiek            </td><td> 93102.05                  </td><td>465515.2                   </td></tr>\n",
       "\t<tr><td>4205                       </td><td>Protestants-Christelijk    </td><td>125432.37                  </td><td>428469.2                   </td></tr>\n",
       "\t<tr><td>3371                       </td><td>Protestants-Christelijk    </td><td>117721.61                  </td><td>426758.1                   </td></tr>\n",
       "\t<tr><td>4205                       </td><td>Protestants-Christelijk    </td><td>125432.37                  </td><td>428469.2                   </td></tr>\n",
       "\t<tr><td>4204                       </td><td>Protestants-Christelijk    </td><td>124453.21                  </td><td>427965.3                   </td></tr>\n",
       "\t<tr><td>4205                       </td><td>Protestants-Christelijk    </td><td>125432.37                  </td><td>428469.2                   </td></tr>\n",
       "\t<tr><td>4207                       </td><td>Protestants-Christelijk    </td><td>128258.35                  </td><td>427797.1                   </td></tr>\n",
       "\t<tr><td>4143                       </td><td>Protestants-Christelijk    </td><td>135098.17                  </td><td>435825.2                   </td></tr>\n",
       "\t<tr><td>4142                       </td><td>Protestants-Christelijk    </td><td>133545.02                  </td><td>433654.3                   </td></tr>\n",
       "\t<tr><td>3032                       </td><td>Algemeen bijzonder         </td><td> 92543.24                  </td><td>438105.4                   </td></tr>\n",
       "\t<tr><td>3039                       </td><td>Algemeen bijzonder         </td><td> 91033.51                  </td><td>438426.9                   </td></tr>\n",
       "\t<tr><td>2517                       </td><td>Protestants-Christelijk    </td><td> 79535.34                  </td><td>455728.8                   </td></tr>\n",
       "\t<tr><td>2551                       </td><td>Protestants-Christelijk    </td><td> 76041.43                  </td><td>452930.4                   </td></tr>\n",
       "\t<tr><td>3362                       </td><td>Samenwerking PC, Alg. Bijz.</td><td>113580.62                  </td><td>426042.1                   </td></tr>\n",
       "\t<tr><td>2241                       </td><td>Rooms-Katholiek            </td><td> 87997.13                  </td><td>462820.7                   </td></tr>\n",
       "\t<tr><td>3055                       </td><td>Rooms-Katholiek            </td><td> 94291.56                  </td><td>441811.5                   </td></tr>\n",
       "\t<tr><td>2401                       </td><td>Rooms-Katholiek            </td><td>104329.33                  </td><td>462505.7                   </td></tr>\n",
       "\t<tr><td>2421                       </td><td>Rooms-Katholiek            </td><td>114336.51                  </td><td>460357.0                   </td></tr>\n",
       "\t<tr><td>2585                       </td><td>Algemeen bijzonder         </td><td> 80442.94                  </td><td>456762.2                   </td></tr>\n",
       "\t<tr><td>2725                       </td><td>Rooms-Katholiek            </td><td> 94198.89                  </td><td>454751.8                   </td></tr>\n",
       "\t<tr><td>2614                       </td><td>Protestants-Christelijk    </td><td> 82702.87                  </td><td>446848.0                   </td></tr>\n",
       "\t<tr><td>2625                       </td><td>Protestants-Christelijk    </td><td> 82925.32                  </td><td>445528.4                   </td></tr>\n",
       "\t<tr><td>2625                       </td><td>Protestants-Christelijk    </td><td> 82925.32                  </td><td>445528.4                   </td></tr>\n",
       "\t<tr><td>2597                       </td><td>Antroposofisch             </td><td> 82053.47                  </td><td>457639.6                   </td></tr>\n",
       "\t<tr><td>3034                       </td><td>Antroposofisch             </td><td> 93922.07                  </td><td>439326.2                   </td></tr>\n",
       "\t<tr><td>2315                       </td><td>Antroposofisch             </td><td> 94918.43                  </td><td>464386.5                   </td></tr>\n",
       "</tbody>\n",
       "</table>\n"
      ],
      "text/latex": [
       "\\begin{tabular}{r|llll}\n",
       " PC4 & DENOMINATIE & X & Y\\\\\n",
       "\\hline\n",
       "\t 9406                    & Openbaar                & 231892.2                & 557973.9               \\\\\n",
       "\t 9401                    & Openbaar                & 233493.0                & 556417.8               \\\\\n",
       "\t 9402                    & Openbaar                & 233609.0                & 558009.3               \\\\\n",
       "\t 9331                    & Openbaar                & 227729.6                & 565502.0               \\\\\n",
       "\t 9411                    & Openbaar                & 230301.1                & 541915.0               \\\\\n",
       "\t 9461                    & Openbaar                & 247920.2                & 558870.0               \\\\\n",
       "\t 9402                    & Openbaar                & 233609.0                & 558009.3               \\\\\n",
       "\t 9402                    & Openbaar                & 233609.0                & 558009.3               \\\\\n",
       "\t 9403                    & Openbaar                & 236027.7                & 558517.2               \\\\\n",
       "\t 9406                    & Openbaar                & 231892.2                & 557973.9               \\\\\n",
       "\t 7905                    & Openbaar                & 230638.5                & 525908.4               \\\\\n",
       "\t 7905                    & Openbaar                & 230638.5                & 525908.4               \\\\\n",
       "\t 7905                    & Openbaar                & 230638.5                & 525908.4               \\\\\n",
       "\t 7905                    & Openbaar                & 230638.5                & 525908.4               \\\\\n",
       "\t 7905                    & Openbaar                & 230638.5                & 525908.4               \\\\\n",
       "\t 9404                    & Algemeen bijzonder      & 235762.2                & 556213.9               \\\\\n",
       "\t 9761                    & Algemeen bijzonder      & 235111.1                & 572622.2               \\\\\n",
       "\t 7812                    & Algemeen bijzonder      & 256416.6                & 531731.3               \\\\\n",
       "\t 7944                    & Algemeen bijzonder      & 208812.5                & 522321.5               \\\\\n",
       "\t 7944                    & Algemeen bijzonder      & 208812.5                & 522321.5               \\\\\n",
       "\t 7824                    & Rooms-Katholiek         & 258731.5                & 533917.2               \\\\\n",
       "\t 9301                    & Algemeen bijzonder      & 224232.0                & 572595.4               \\\\\n",
       "\t 9301                    & Algemeen bijzonder      & 224232.0                & 572595.4               \\\\\n",
       "\t 7902                    & Protestants-Christelijk & 229332.2                & 526942.5               \\\\\n",
       "\t 7903                    & Protestants-Christelijk & 230467.0                & 527833.3               \\\\\n",
       "\t 7822                    & Protestants-Christelijk & 257598.1                & 534933.7               \\\\\n",
       "\t 7825                    & Algemeen bijzonder      & 259003.6                & 531498.7               \\\\\n",
       "\t 7943                    & Openbaar                & 211244.3                & 523147.6               \\\\\n",
       "\t 7943                    & Openbaar                & 211244.3                & 523147.6               \\\\\n",
       "\t 7943                    & Openbaar                & 211244.3                & 523147.6               \\\\\n",
       "\t ... & ... & ... & ...\\\\\n",
       "\t 2231                        & Protestants-Christelijk     &  90661.54                   & 468286.3                   \\\\\n",
       "\t 2313                        & Rooms-Katholiek             &  94304.57                   & 463027.2                   \\\\\n",
       "\t 2371                        & Rooms-Katholiek             & 103153.85                   & 467993.8                   \\\\\n",
       "\t 2334                        & Rooms-Katholiek             &  93102.05                   & 465515.2                   \\\\\n",
       "\t 2334                        & Rooms-Katholiek             &  93102.05                   & 465515.2                   \\\\\n",
       "\t 4205                        & Protestants-Christelijk     & 125432.37                   & 428469.2                   \\\\\n",
       "\t 3371                        & Protestants-Christelijk     & 117721.61                   & 426758.1                   \\\\\n",
       "\t 4205                        & Protestants-Christelijk     & 125432.37                   & 428469.2                   \\\\\n",
       "\t 4204                        & Protestants-Christelijk     & 124453.21                   & 427965.3                   \\\\\n",
       "\t 4205                        & Protestants-Christelijk     & 125432.37                   & 428469.2                   \\\\\n",
       "\t 4207                        & Protestants-Christelijk     & 128258.35                   & 427797.1                   \\\\\n",
       "\t 4143                        & Protestants-Christelijk     & 135098.17                   & 435825.2                   \\\\\n",
       "\t 4142                        & Protestants-Christelijk     & 133545.02                   & 433654.3                   \\\\\n",
       "\t 3032                        & Algemeen bijzonder          &  92543.24                   & 438105.4                   \\\\\n",
       "\t 3039                        & Algemeen bijzonder          &  91033.51                   & 438426.9                   \\\\\n",
       "\t 2517                        & Protestants-Christelijk     &  79535.34                   & 455728.8                   \\\\\n",
       "\t 2551                        & Protestants-Christelijk     &  76041.43                   & 452930.4                   \\\\\n",
       "\t 3362                        & Samenwerking PC, Alg. Bijz. & 113580.62                   & 426042.1                   \\\\\n",
       "\t 2241                        & Rooms-Katholiek             &  87997.13                   & 462820.7                   \\\\\n",
       "\t 3055                        & Rooms-Katholiek             &  94291.56                   & 441811.5                   \\\\\n",
       "\t 2401                        & Rooms-Katholiek             & 104329.33                   & 462505.7                   \\\\\n",
       "\t 2421                        & Rooms-Katholiek             & 114336.51                   & 460357.0                   \\\\\n",
       "\t 2585                        & Algemeen bijzonder          &  80442.94                   & 456762.2                   \\\\\n",
       "\t 2725                        & Rooms-Katholiek             &  94198.89                   & 454751.8                   \\\\\n",
       "\t 2614                        & Protestants-Christelijk     &  82702.87                   & 446848.0                   \\\\\n",
       "\t 2625                        & Protestants-Christelijk     &  82925.32                   & 445528.4                   \\\\\n",
       "\t 2625                        & Protestants-Christelijk     &  82925.32                   & 445528.4                   \\\\\n",
       "\t 2597                        & Antroposofisch              &  82053.47                   & 457639.6                   \\\\\n",
       "\t 3034                        & Antroposofisch              &  93922.07                   & 439326.2                   \\\\\n",
       "\t 2315                        & Antroposofisch              &  94918.43                   & 464386.5                   \\\\\n",
       "\\end{tabular}\n"
      ],
      "text/markdown": [
       "\n",
       "PC4 | DENOMINATIE | X | Y | \n",
       "|---|---|---|---|---|---|---|---|---|---|---|---|---|---|---|---|---|---|---|---|---|---|---|---|---|---|---|---|---|---|---|---|---|---|---|---|---|---|---|---|---|---|---|---|---|---|---|---|---|---|---|---|---|---|---|---|---|---|---|---|---|\n",
       "| 9406                    | Openbaar                | 231892.2                | 557973.9                | \n",
       "| 9401                    | Openbaar                | 233493.0                | 556417.8                | \n",
       "| 9402                    | Openbaar                | 233609.0                | 558009.3                | \n",
       "| 9331                    | Openbaar                | 227729.6                | 565502.0                | \n",
       "| 9411                    | Openbaar                | 230301.1                | 541915.0                | \n",
       "| 9461                    | Openbaar                | 247920.2                | 558870.0                | \n",
       "| 9402                    | Openbaar                | 233609.0                | 558009.3                | \n",
       "| 9402                    | Openbaar                | 233609.0                | 558009.3                | \n",
       "| 9403                    | Openbaar                | 236027.7                | 558517.2                | \n",
       "| 9406                    | Openbaar                | 231892.2                | 557973.9                | \n",
       "| 7905                    | Openbaar                | 230638.5                | 525908.4                | \n",
       "| 7905                    | Openbaar                | 230638.5                | 525908.4                | \n",
       "| 7905                    | Openbaar                | 230638.5                | 525908.4                | \n",
       "| 7905                    | Openbaar                | 230638.5                | 525908.4                | \n",
       "| 7905                    | Openbaar                | 230638.5                | 525908.4                | \n",
       "| 9404                    | Algemeen bijzonder      | 235762.2                | 556213.9                | \n",
       "| 9761                    | Algemeen bijzonder      | 235111.1                | 572622.2                | \n",
       "| 7812                    | Algemeen bijzonder      | 256416.6                | 531731.3                | \n",
       "| 7944                    | Algemeen bijzonder      | 208812.5                | 522321.5                | \n",
       "| 7944                    | Algemeen bijzonder      | 208812.5                | 522321.5                | \n",
       "| 7824                    | Rooms-Katholiek         | 258731.5                | 533917.2                | \n",
       "| 9301                    | Algemeen bijzonder      | 224232.0                | 572595.4                | \n",
       "| 9301                    | Algemeen bijzonder      | 224232.0                | 572595.4                | \n",
       "| 7902                    | Protestants-Christelijk | 229332.2                | 526942.5                | \n",
       "| 7903                    | Protestants-Christelijk | 230467.0                | 527833.3                | \n",
       "| 7822                    | Protestants-Christelijk | 257598.1                | 534933.7                | \n",
       "| 7825                    | Algemeen bijzonder      | 259003.6                | 531498.7                | \n",
       "| 7943                    | Openbaar                | 211244.3                | 523147.6                | \n",
       "| 7943                    | Openbaar                | 211244.3                | 523147.6                | \n",
       "| 7943                    | Openbaar                | 211244.3                | 523147.6                | \n",
       "| ... | ... | ... | ... | \n",
       "| 2231                        | Protestants-Christelijk     |  90661.54                   | 468286.3                    | \n",
       "| 2313                        | Rooms-Katholiek             |  94304.57                   | 463027.2                    | \n",
       "| 2371                        | Rooms-Katholiek             | 103153.85                   | 467993.8                    | \n",
       "| 2334                        | Rooms-Katholiek             |  93102.05                   | 465515.2                    | \n",
       "| 2334                        | Rooms-Katholiek             |  93102.05                   | 465515.2                    | \n",
       "| 4205                        | Protestants-Christelijk     | 125432.37                   | 428469.2                    | \n",
       "| 3371                        | Protestants-Christelijk     | 117721.61                   | 426758.1                    | \n",
       "| 4205                        | Protestants-Christelijk     | 125432.37                   | 428469.2                    | \n",
       "| 4204                        | Protestants-Christelijk     | 124453.21                   | 427965.3                    | \n",
       "| 4205                        | Protestants-Christelijk     | 125432.37                   | 428469.2                    | \n",
       "| 4207                        | Protestants-Christelijk     | 128258.35                   | 427797.1                    | \n",
       "| 4143                        | Protestants-Christelijk     | 135098.17                   | 435825.2                    | \n",
       "| 4142                        | Protestants-Christelijk     | 133545.02                   | 433654.3                    | \n",
       "| 3032                        | Algemeen bijzonder          |  92543.24                   | 438105.4                    | \n",
       "| 3039                        | Algemeen bijzonder          |  91033.51                   | 438426.9                    | \n",
       "| 2517                        | Protestants-Christelijk     |  79535.34                   | 455728.8                    | \n",
       "| 2551                        | Protestants-Christelijk     |  76041.43                   | 452930.4                    | \n",
       "| 3362                        | Samenwerking PC, Alg. Bijz. | 113580.62                   | 426042.1                    | \n",
       "| 2241                        | Rooms-Katholiek             |  87997.13                   | 462820.7                    | \n",
       "| 3055                        | Rooms-Katholiek             |  94291.56                   | 441811.5                    | \n",
       "| 2401                        | Rooms-Katholiek             | 104329.33                   | 462505.7                    | \n",
       "| 2421                        | Rooms-Katholiek             | 114336.51                   | 460357.0                    | \n",
       "| 2585                        | Algemeen bijzonder          |  80442.94                   | 456762.2                    | \n",
       "| 2725                        | Rooms-Katholiek             |  94198.89                   | 454751.8                    | \n",
       "| 2614                        | Protestants-Christelijk     |  82702.87                   | 446848.0                    | \n",
       "| 2625                        | Protestants-Christelijk     |  82925.32                   | 445528.4                    | \n",
       "| 2625                        | Protestants-Christelijk     |  82925.32                   | 445528.4                    | \n",
       "| 2597                        | Antroposofisch              |  82053.47                   | 457639.6                    | \n",
       "| 3034                        | Antroposofisch              |  93922.07                   | 439326.2                    | \n",
       "| 2315                        | Antroposofisch              |  94918.43                   | 464386.5                    | \n",
       "\n",
       "\n"
      ],
      "text/plain": [
       "     PC4  DENOMINATIE                 X         Y       \n",
       "1    9406 Openbaar                    231892.2  557973.9\n",
       "2    9401 Openbaar                    233493.0  556417.8\n",
       "3    9402 Openbaar                    233609.0  558009.3\n",
       "4    9331 Openbaar                    227729.6  565502.0\n",
       "5    9411 Openbaar                    230301.1  541915.0\n",
       "6    9461 Openbaar                    247920.2  558870.0\n",
       "7    9402 Openbaar                    233609.0  558009.3\n",
       "8    9402 Openbaar                    233609.0  558009.3\n",
       "9    9403 Openbaar                    236027.7  558517.2\n",
       "10   9406 Openbaar                    231892.2  557973.9\n",
       "11   7905 Openbaar                    230638.5  525908.4\n",
       "12   7905 Openbaar                    230638.5  525908.4\n",
       "13   7905 Openbaar                    230638.5  525908.4\n",
       "14   7905 Openbaar                    230638.5  525908.4\n",
       "15   7905 Openbaar                    230638.5  525908.4\n",
       "16   9404 Algemeen bijzonder          235762.2  556213.9\n",
       "17   9761 Algemeen bijzonder          235111.1  572622.2\n",
       "18   7812 Algemeen bijzonder          256416.6  531731.3\n",
       "19   7944 Algemeen bijzonder          208812.5  522321.5\n",
       "20   7944 Algemeen bijzonder          208812.5  522321.5\n",
       "21   7824 Rooms-Katholiek             258731.5  533917.2\n",
       "22   9301 Algemeen bijzonder          224232.0  572595.4\n",
       "23   9301 Algemeen bijzonder          224232.0  572595.4\n",
       "24   7902 Protestants-Christelijk     229332.2  526942.5\n",
       "25   7903 Protestants-Christelijk     230467.0  527833.3\n",
       "26   7822 Protestants-Christelijk     257598.1  534933.7\n",
       "27   7825 Algemeen bijzonder          259003.6  531498.7\n",
       "28   7943 Openbaar                    211244.3  523147.6\n",
       "29   7943 Openbaar                    211244.3  523147.6\n",
       "30   7943 Openbaar                    211244.3  523147.6\n",
       "...  ...  ...                         ...       ...     \n",
       "1573 2231 Protestants-Christelijk      90661.54 468286.3\n",
       "1574 2313 Rooms-Katholiek              94304.57 463027.2\n",
       "1575 2371 Rooms-Katholiek             103153.85 467993.8\n",
       "1576 2334 Rooms-Katholiek              93102.05 465515.2\n",
       "1577 2334 Rooms-Katholiek              93102.05 465515.2\n",
       "1578 4205 Protestants-Christelijk     125432.37 428469.2\n",
       "1579 3371 Protestants-Christelijk     117721.61 426758.1\n",
       "1580 4205 Protestants-Christelijk     125432.37 428469.2\n",
       "1581 4204 Protestants-Christelijk     124453.21 427965.3\n",
       "1582 4205 Protestants-Christelijk     125432.37 428469.2\n",
       "1583 4207 Protestants-Christelijk     128258.35 427797.1\n",
       "1584 4143 Protestants-Christelijk     135098.17 435825.2\n",
       "1585 4142 Protestants-Christelijk     133545.02 433654.3\n",
       "1586 3032 Algemeen bijzonder           92543.24 438105.4\n",
       "1587 3039 Algemeen bijzonder           91033.51 438426.9\n",
       "1588 2517 Protestants-Christelijk      79535.34 455728.8\n",
       "1589 2551 Protestants-Christelijk      76041.43 452930.4\n",
       "1590 3362 Samenwerking PC, Alg. Bijz. 113580.62 426042.1\n",
       "1591 2241 Rooms-Katholiek              87997.13 462820.7\n",
       "1592 3055 Rooms-Katholiek              94291.56 441811.5\n",
       "1593 2401 Rooms-Katholiek             104329.33 462505.7\n",
       "1594 2421 Rooms-Katholiek             114336.51 460357.0\n",
       "1595 2585 Algemeen bijzonder           80442.94 456762.2\n",
       "1596 2725 Rooms-Katholiek              94198.89 454751.8\n",
       "1597 2614 Protestants-Christelijk      82702.87 446848.0\n",
       "1598 2625 Protestants-Christelijk      82925.32 445528.4\n",
       "1599 2625 Protestants-Christelijk      82925.32 445528.4\n",
       "1600 2597 Antroposofisch               82053.47 457639.6\n",
       "1601 3034 Antroposofisch               93922.07 439326.2\n",
       "1602 2315 Antroposofisch               94918.43 464386.5"
      ]
     },
     "metadata": {},
     "output_type": "display_data"
    }
   ],
   "source": [
    "school_loc <- inner_join(schools1, pc4_locations, by= \"PC4\")\n",
    "school_loc "
   ]
  },
  {
   "cell_type": "code",
   "execution_count": 342,
   "metadata": {},
   "outputs": [
    {
     "data": {
      "text/html": [
       "<table>\n",
       "<thead><tr><th></th><th scope=col>PC4</th><th scope=col>DENOMINATIE</th><th scope=col>X</th><th scope=col>Y</th></tr></thead>\n",
       "<tbody>\n",
       "\t<tr><th scope=row>21</th><td>7824                   </td><td>Rooms-Katholiek        </td><td>258731.5               </td><td>533917.2               </td></tr>\n",
       "\t<tr><th scope=row>24</th><td>7902                   </td><td>Protestants-Christelijk</td><td>229332.2               </td><td>526942.5               </td></tr>\n",
       "\t<tr><th scope=row>25</th><td>7903                   </td><td>Protestants-Christelijk</td><td>230467.0               </td><td>527833.3               </td></tr>\n",
       "\t<tr><th scope=row>26</th><td>7822                   </td><td>Protestants-Christelijk</td><td>257598.1               </td><td>534933.7               </td></tr>\n",
       "\t<tr><th scope=row>45</th><td>9406                   </td><td>Protestants-Christelijk</td><td>231892.2               </td><td>557973.9               </td></tr>\n",
       "\t<tr><th scope=row>46</th><td>9405                   </td><td>Protestants-Christelijk</td><td>231985.5               </td><td>554609.9               </td></tr>\n",
       "\t<tr><th scope=row>47</th><td>9404                   </td><td>Protestants-Christelijk</td><td>235762.2               </td><td>556213.9               </td></tr>\n",
       "\t<tr><th scope=row>48</th><td>9411                   </td><td>Protestants-Christelijk</td><td>230301.1               </td><td>541915.0               </td></tr>\n",
       "\t<tr><th scope=row>49</th><td>9422                   </td><td>Protestants-Christelijk</td><td>226773.0               </td><td>551209.3               </td></tr>\n",
       "\t<tr><th scope=row>50</th><td>7944                   </td><td>Protestants-Christelijk</td><td>208812.5               </td><td>522321.5               </td></tr>\n",
       "\t<tr><th scope=row>61</th><td>8321                   </td><td>Protestants-Christelijk</td><td>170739.0               </td><td>519287.4               </td></tr>\n",
       "\t<tr><th scope=row>62</th><td>8303                   </td><td>Protestants-Christelijk</td><td>178521.4               </td><td>525485.2               </td></tr>\n",
       "\t<tr><th scope=row>67</th><td>8302                   </td><td>Rooms-Katholiek        </td><td>178975.0               </td><td>526050.9               </td></tr>\n",
       "\t<tr><th scope=row>72</th><td>8251                   </td><td>Protestants-Christelijk</td><td>177547.4               </td><td>504203.0               </td></tr>\n",
       "\t<tr><th scope=row>73</th><td>8251                   </td><td>Protestants-Christelijk</td><td>177547.4               </td><td>504203.0               </td></tr>\n",
       "\t<tr><th scope=row>74</th><td>8251                   </td><td>Protestants-Christelijk</td><td>177547.4               </td><td>504203.0               </td></tr>\n",
       "\t<tr><th scope=row>88</th><td>8302                   </td><td>Protestants-Christelijk</td><td>178975.0               </td><td>526050.9               </td></tr>\n",
       "\t<tr><th scope=row>89</th><td>8302                   </td><td>Protestants-Christelijk</td><td>178975.0               </td><td>526050.9               </td></tr>\n",
       "\t<tr><th scope=row>90</th><td>8302                   </td><td>Protestants-Christelijk</td><td>178975.0               </td><td>526050.9               </td></tr>\n",
       "\t<tr><th scope=row>91</th><td>8321                   </td><td>Protestants-Christelijk</td><td>170739.0               </td><td>519287.4               </td></tr>\n",
       "\t<tr><th scope=row>129</th><td>9285                   </td><td>Protestants-Christelijk</td><td>207145.2               </td><td>585459.1               </td></tr>\n",
       "\t<tr><th scope=row>130</th><td>9291                   </td><td>Protestants-Christelijk</td><td>206346.7               </td><td>589139.4               </td></tr>\n",
       "\t<tr><th scope=row>131</th><td>9103                   </td><td>Protestants-Christelijk</td><td>196183.5               </td><td>592470.5               </td></tr>\n",
       "\t<tr><th scope=row>132</th><td>9101                   </td><td>Protestants-Christelijk</td><td>195835.9               </td><td>593130.2               </td></tr>\n",
       "\t<tr><th scope=row>133</th><td>9101                   </td><td>Protestants-Christelijk</td><td>195835.9               </td><td>593130.2               </td></tr>\n",
       "\t<tr><th scope=row>134</th><td>9172                   </td><td>Protestants-Christelijk</td><td>184459.3               </td><td>594818.4               </td></tr>\n",
       "\t<tr><th scope=row>135</th><td>9101                   </td><td>Protestants-Christelijk</td><td>195835.9               </td><td>593130.2               </td></tr>\n",
       "\t<tr><th scope=row>136</th><td>8601                   </td><td>Protestants-Christelijk</td><td>172092.0               </td><td>560719.6               </td></tr>\n",
       "\t<tr><th scope=row>137</th><td>8601                   </td><td>Protestants-Christelijk</td><td>172092.0               </td><td>560719.6               </td></tr>\n",
       "\t<tr><th scope=row>138</th><td>8601                   </td><td>Protestants-Christelijk</td><td>172092.0               </td><td>560719.6               </td></tr>\n",
       "\t<tr><th scope=row>...</th><td>...</td><td>...</td><td>...</td><td>...</td></tr>\n",
       "\t<tr><th scope=row>1566</th><td>2215                   </td><td>Rooms-Katholiek        </td><td> 94271.47              </td><td>471375.4               </td></tr>\n",
       "\t<tr><th scope=row>1567</th><td>2211                   </td><td>Rooms-Katholiek        </td><td> 94093.31              </td><td>475844.4               </td></tr>\n",
       "\t<tr><th scope=row>1568</th><td>2341                   </td><td>Rooms-Katholiek        </td><td> 92551.00              </td><td>466302.9               </td></tr>\n",
       "\t<tr><th scope=row>1569</th><td>2221                   </td><td>Rooms-Katholiek        </td><td> 88924.55              </td><td>469495.4               </td></tr>\n",
       "\t<tr><th scope=row>1570</th><td>2334                   </td><td>Protestants-Christelijk</td><td> 93102.05              </td><td>465515.2               </td></tr>\n",
       "\t<tr><th scope=row>1571</th><td>2334                   </td><td>Protestants-Christelijk</td><td> 93102.05              </td><td>465515.2               </td></tr>\n",
       "\t<tr><th scope=row>1572</th><td>2353                   </td><td>Protestants-Christelijk</td><td> 96861.44              </td><td>464295.9               </td></tr>\n",
       "\t<tr><th scope=row>1573</th><td>2231                   </td><td>Protestants-Christelijk</td><td> 90661.54              </td><td>468286.3               </td></tr>\n",
       "\t<tr><th scope=row>1574</th><td>2313                   </td><td>Rooms-Katholiek        </td><td> 94304.57              </td><td>463027.2               </td></tr>\n",
       "\t<tr><th scope=row>1575</th><td>2371                   </td><td>Rooms-Katholiek        </td><td>103153.85              </td><td>467993.8               </td></tr>\n",
       "\t<tr><th scope=row>1576</th><td>2334                   </td><td>Rooms-Katholiek        </td><td> 93102.05              </td><td>465515.2               </td></tr>\n",
       "\t<tr><th scope=row>1577</th><td>2334                   </td><td>Rooms-Katholiek        </td><td> 93102.05              </td><td>465515.2               </td></tr>\n",
       "\t<tr><th scope=row>1578</th><td>4205                   </td><td>Protestants-Christelijk</td><td>125432.37              </td><td>428469.2               </td></tr>\n",
       "\t<tr><th scope=row>1579</th><td>3371                   </td><td>Protestants-Christelijk</td><td>117721.61              </td><td>426758.1               </td></tr>\n",
       "\t<tr><th scope=row>1580</th><td>4205                   </td><td>Protestants-Christelijk</td><td>125432.37              </td><td>428469.2               </td></tr>\n",
       "\t<tr><th scope=row>1581</th><td>4204                   </td><td>Protestants-Christelijk</td><td>124453.21              </td><td>427965.3               </td></tr>\n",
       "\t<tr><th scope=row>1582</th><td>4205                   </td><td>Protestants-Christelijk</td><td>125432.37              </td><td>428469.2               </td></tr>\n",
       "\t<tr><th scope=row>1583</th><td>4207                   </td><td>Protestants-Christelijk</td><td>128258.35              </td><td>427797.1               </td></tr>\n",
       "\t<tr><th scope=row>1584</th><td>4143                   </td><td>Protestants-Christelijk</td><td>135098.17              </td><td>435825.2               </td></tr>\n",
       "\t<tr><th scope=row>1585</th><td>4142                   </td><td>Protestants-Christelijk</td><td>133545.02              </td><td>433654.3               </td></tr>\n",
       "\t<tr><th scope=row>1588</th><td>2517                   </td><td>Protestants-Christelijk</td><td> 79535.34              </td><td>455728.8               </td></tr>\n",
       "\t<tr><th scope=row>1589</th><td>2551                   </td><td>Protestants-Christelijk</td><td> 76041.43              </td><td>452930.4               </td></tr>\n",
       "\t<tr><th scope=row>1591</th><td>2241                   </td><td>Rooms-Katholiek        </td><td> 87997.13              </td><td>462820.7               </td></tr>\n",
       "\t<tr><th scope=row>1592</th><td>3055                   </td><td>Rooms-Katholiek        </td><td> 94291.56              </td><td>441811.5               </td></tr>\n",
       "\t<tr><th scope=row>1593</th><td>2401                   </td><td>Rooms-Katholiek        </td><td>104329.33              </td><td>462505.7               </td></tr>\n",
       "\t<tr><th scope=row>1594</th><td>2421                   </td><td>Rooms-Katholiek        </td><td>114336.51              </td><td>460357.0               </td></tr>\n",
       "\t<tr><th scope=row>1596</th><td>2725                   </td><td>Rooms-Katholiek        </td><td> 94198.89              </td><td>454751.8               </td></tr>\n",
       "\t<tr><th scope=row>1597</th><td>2614                   </td><td>Protestants-Christelijk</td><td> 82702.87              </td><td>446848.0               </td></tr>\n",
       "\t<tr><th scope=row>1598</th><td>2625                   </td><td>Protestants-Christelijk</td><td> 82925.32              </td><td>445528.4               </td></tr>\n",
       "\t<tr><th scope=row>1599</th><td>2625                   </td><td>Protestants-Christelijk</td><td> 82925.32              </td><td>445528.4               </td></tr>\n",
       "</tbody>\n",
       "</table>\n"
      ],
      "text/latex": [
       "\\begin{tabular}{r|llll}\n",
       "  & PC4 & DENOMINATIE & X & Y\\\\\n",
       "\\hline\n",
       "\t21 & 7824                    & Rooms-Katholiek         & 258731.5                & 533917.2               \\\\\n",
       "\t24 & 7902                    & Protestants-Christelijk & 229332.2                & 526942.5               \\\\\n",
       "\t25 & 7903                    & Protestants-Christelijk & 230467.0                & 527833.3               \\\\\n",
       "\t26 & 7822                    & Protestants-Christelijk & 257598.1                & 534933.7               \\\\\n",
       "\t45 & 9406                    & Protestants-Christelijk & 231892.2                & 557973.9               \\\\\n",
       "\t46 & 9405                    & Protestants-Christelijk & 231985.5                & 554609.9               \\\\\n",
       "\t47 & 9404                    & Protestants-Christelijk & 235762.2                & 556213.9               \\\\\n",
       "\t48 & 9411                    & Protestants-Christelijk & 230301.1                & 541915.0               \\\\\n",
       "\t49 & 9422                    & Protestants-Christelijk & 226773.0                & 551209.3               \\\\\n",
       "\t50 & 7944                    & Protestants-Christelijk & 208812.5                & 522321.5               \\\\\n",
       "\t61 & 8321                    & Protestants-Christelijk & 170739.0                & 519287.4               \\\\\n",
       "\t62 & 8303                    & Protestants-Christelijk & 178521.4                & 525485.2               \\\\\n",
       "\t67 & 8302                    & Rooms-Katholiek         & 178975.0                & 526050.9               \\\\\n",
       "\t72 & 8251                    & Protestants-Christelijk & 177547.4                & 504203.0               \\\\\n",
       "\t73 & 8251                    & Protestants-Christelijk & 177547.4                & 504203.0               \\\\\n",
       "\t74 & 8251                    & Protestants-Christelijk & 177547.4                & 504203.0               \\\\\n",
       "\t88 & 8302                    & Protestants-Christelijk & 178975.0                & 526050.9               \\\\\n",
       "\t89 & 8302                    & Protestants-Christelijk & 178975.0                & 526050.9               \\\\\n",
       "\t90 & 8302                    & Protestants-Christelijk & 178975.0                & 526050.9               \\\\\n",
       "\t91 & 8321                    & Protestants-Christelijk & 170739.0                & 519287.4               \\\\\n",
       "\t129 & 9285                    & Protestants-Christelijk & 207145.2                & 585459.1               \\\\\n",
       "\t130 & 9291                    & Protestants-Christelijk & 206346.7                & 589139.4               \\\\\n",
       "\t131 & 9103                    & Protestants-Christelijk & 196183.5                & 592470.5               \\\\\n",
       "\t132 & 9101                    & Protestants-Christelijk & 195835.9                & 593130.2               \\\\\n",
       "\t133 & 9101                    & Protestants-Christelijk & 195835.9                & 593130.2               \\\\\n",
       "\t134 & 9172                    & Protestants-Christelijk & 184459.3                & 594818.4               \\\\\n",
       "\t135 & 9101                    & Protestants-Christelijk & 195835.9                & 593130.2               \\\\\n",
       "\t136 & 8601                    & Protestants-Christelijk & 172092.0                & 560719.6               \\\\\n",
       "\t137 & 8601                    & Protestants-Christelijk & 172092.0                & 560719.6               \\\\\n",
       "\t138 & 8601                    & Protestants-Christelijk & 172092.0                & 560719.6               \\\\\n",
       "\t... & ... & ... & ... & ...\\\\\n",
       "\t1566 & 2215                    & Rooms-Katholiek         &  94271.47               & 471375.4               \\\\\n",
       "\t1567 & 2211                    & Rooms-Katholiek         &  94093.31               & 475844.4               \\\\\n",
       "\t1568 & 2341                    & Rooms-Katholiek         &  92551.00               & 466302.9               \\\\\n",
       "\t1569 & 2221                    & Rooms-Katholiek         &  88924.55               & 469495.4               \\\\\n",
       "\t1570 & 2334                    & Protestants-Christelijk &  93102.05               & 465515.2               \\\\\n",
       "\t1571 & 2334                    & Protestants-Christelijk &  93102.05               & 465515.2               \\\\\n",
       "\t1572 & 2353                    & Protestants-Christelijk &  96861.44               & 464295.9               \\\\\n",
       "\t1573 & 2231                    & Protestants-Christelijk &  90661.54               & 468286.3               \\\\\n",
       "\t1574 & 2313                    & Rooms-Katholiek         &  94304.57               & 463027.2               \\\\\n",
       "\t1575 & 2371                    & Rooms-Katholiek         & 103153.85               & 467993.8               \\\\\n",
       "\t1576 & 2334                    & Rooms-Katholiek         &  93102.05               & 465515.2               \\\\\n",
       "\t1577 & 2334                    & Rooms-Katholiek         &  93102.05               & 465515.2               \\\\\n",
       "\t1578 & 4205                    & Protestants-Christelijk & 125432.37               & 428469.2               \\\\\n",
       "\t1579 & 3371                    & Protestants-Christelijk & 117721.61               & 426758.1               \\\\\n",
       "\t1580 & 4205                    & Protestants-Christelijk & 125432.37               & 428469.2               \\\\\n",
       "\t1581 & 4204                    & Protestants-Christelijk & 124453.21               & 427965.3               \\\\\n",
       "\t1582 & 4205                    & Protestants-Christelijk & 125432.37               & 428469.2               \\\\\n",
       "\t1583 & 4207                    & Protestants-Christelijk & 128258.35               & 427797.1               \\\\\n",
       "\t1584 & 4143                    & Protestants-Christelijk & 135098.17               & 435825.2               \\\\\n",
       "\t1585 & 4142                    & Protestants-Christelijk & 133545.02               & 433654.3               \\\\\n",
       "\t1588 & 2517                    & Protestants-Christelijk &  79535.34               & 455728.8               \\\\\n",
       "\t1589 & 2551                    & Protestants-Christelijk &  76041.43               & 452930.4               \\\\\n",
       "\t1591 & 2241                    & Rooms-Katholiek         &  87997.13               & 462820.7               \\\\\n",
       "\t1592 & 3055                    & Rooms-Katholiek         &  94291.56               & 441811.5               \\\\\n",
       "\t1593 & 2401                    & Rooms-Katholiek         & 104329.33               & 462505.7               \\\\\n",
       "\t1594 & 2421                    & Rooms-Katholiek         & 114336.51               & 460357.0               \\\\\n",
       "\t1596 & 2725                    & Rooms-Katholiek         &  94198.89               & 454751.8               \\\\\n",
       "\t1597 & 2614                    & Protestants-Christelijk &  82702.87               & 446848.0               \\\\\n",
       "\t1598 & 2625                    & Protestants-Christelijk &  82925.32               & 445528.4               \\\\\n",
       "\t1599 & 2625                    & Protestants-Christelijk &  82925.32               & 445528.4               \\\\\n",
       "\\end{tabular}\n"
      ],
      "text/markdown": [
       "\n",
       "| <!--/--> | PC4 | DENOMINATIE | X | Y | \n",
       "|---|---|---|---|---|---|---|---|---|---|---|---|---|---|---|---|---|---|---|---|---|---|---|---|---|---|---|---|---|---|---|---|---|---|---|---|---|---|---|---|---|---|---|---|---|---|---|---|---|---|---|---|---|---|---|---|---|---|---|---|---|\n",
       "| 21 | 7824                    | Rooms-Katholiek         | 258731.5                | 533917.2                | \n",
       "| 24 | 7902                    | Protestants-Christelijk | 229332.2                | 526942.5                | \n",
       "| 25 | 7903                    | Protestants-Christelijk | 230467.0                | 527833.3                | \n",
       "| 26 | 7822                    | Protestants-Christelijk | 257598.1                | 534933.7                | \n",
       "| 45 | 9406                    | Protestants-Christelijk | 231892.2                | 557973.9                | \n",
       "| 46 | 9405                    | Protestants-Christelijk | 231985.5                | 554609.9                | \n",
       "| 47 | 9404                    | Protestants-Christelijk | 235762.2                | 556213.9                | \n",
       "| 48 | 9411                    | Protestants-Christelijk | 230301.1                | 541915.0                | \n",
       "| 49 | 9422                    | Protestants-Christelijk | 226773.0                | 551209.3                | \n",
       "| 50 | 7944                    | Protestants-Christelijk | 208812.5                | 522321.5                | \n",
       "| 61 | 8321                    | Protestants-Christelijk | 170739.0                | 519287.4                | \n",
       "| 62 | 8303                    | Protestants-Christelijk | 178521.4                | 525485.2                | \n",
       "| 67 | 8302                    | Rooms-Katholiek         | 178975.0                | 526050.9                | \n",
       "| 72 | 8251                    | Protestants-Christelijk | 177547.4                | 504203.0                | \n",
       "| 73 | 8251                    | Protestants-Christelijk | 177547.4                | 504203.0                | \n",
       "| 74 | 8251                    | Protestants-Christelijk | 177547.4                | 504203.0                | \n",
       "| 88 | 8302                    | Protestants-Christelijk | 178975.0                | 526050.9                | \n",
       "| 89 | 8302                    | Protestants-Christelijk | 178975.0                | 526050.9                | \n",
       "| 90 | 8302                    | Protestants-Christelijk | 178975.0                | 526050.9                | \n",
       "| 91 | 8321                    | Protestants-Christelijk | 170739.0                | 519287.4                | \n",
       "| 129 | 9285                    | Protestants-Christelijk | 207145.2                | 585459.1                | \n",
       "| 130 | 9291                    | Protestants-Christelijk | 206346.7                | 589139.4                | \n",
       "| 131 | 9103                    | Protestants-Christelijk | 196183.5                | 592470.5                | \n",
       "| 132 | 9101                    | Protestants-Christelijk | 195835.9                | 593130.2                | \n",
       "| 133 | 9101                    | Protestants-Christelijk | 195835.9                | 593130.2                | \n",
       "| 134 | 9172                    | Protestants-Christelijk | 184459.3                | 594818.4                | \n",
       "| 135 | 9101                    | Protestants-Christelijk | 195835.9                | 593130.2                | \n",
       "| 136 | 8601                    | Protestants-Christelijk | 172092.0                | 560719.6                | \n",
       "| 137 | 8601                    | Protestants-Christelijk | 172092.0                | 560719.6                | \n",
       "| 138 | 8601                    | Protestants-Christelijk | 172092.0                | 560719.6                | \n",
       "| ... | ... | ... | ... | ... | \n",
       "| 1566 | 2215                    | Rooms-Katholiek         |  94271.47               | 471375.4                | \n",
       "| 1567 | 2211                    | Rooms-Katholiek         |  94093.31               | 475844.4                | \n",
       "| 1568 | 2341                    | Rooms-Katholiek         |  92551.00               | 466302.9                | \n",
       "| 1569 | 2221                    | Rooms-Katholiek         |  88924.55               | 469495.4                | \n",
       "| 1570 | 2334                    | Protestants-Christelijk |  93102.05               | 465515.2                | \n",
       "| 1571 | 2334                    | Protestants-Christelijk |  93102.05               | 465515.2                | \n",
       "| 1572 | 2353                    | Protestants-Christelijk |  96861.44               | 464295.9                | \n",
       "| 1573 | 2231                    | Protestants-Christelijk |  90661.54               | 468286.3                | \n",
       "| 1574 | 2313                    | Rooms-Katholiek         |  94304.57               | 463027.2                | \n",
       "| 1575 | 2371                    | Rooms-Katholiek         | 103153.85               | 467993.8                | \n",
       "| 1576 | 2334                    | Rooms-Katholiek         |  93102.05               | 465515.2                | \n",
       "| 1577 | 2334                    | Rooms-Katholiek         |  93102.05               | 465515.2                | \n",
       "| 1578 | 4205                    | Protestants-Christelijk | 125432.37               | 428469.2                | \n",
       "| 1579 | 3371                    | Protestants-Christelijk | 117721.61               | 426758.1                | \n",
       "| 1580 | 4205                    | Protestants-Christelijk | 125432.37               | 428469.2                | \n",
       "| 1581 | 4204                    | Protestants-Christelijk | 124453.21               | 427965.3                | \n",
       "| 1582 | 4205                    | Protestants-Christelijk | 125432.37               | 428469.2                | \n",
       "| 1583 | 4207                    | Protestants-Christelijk | 128258.35               | 427797.1                | \n",
       "| 1584 | 4143                    | Protestants-Christelijk | 135098.17               | 435825.2                | \n",
       "| 1585 | 4142                    | Protestants-Christelijk | 133545.02               | 433654.3                | \n",
       "| 1588 | 2517                    | Protestants-Christelijk |  79535.34               | 455728.8                | \n",
       "| 1589 | 2551                    | Protestants-Christelijk |  76041.43               | 452930.4                | \n",
       "| 1591 | 2241                    | Rooms-Katholiek         |  87997.13               | 462820.7                | \n",
       "| 1592 | 3055                    | Rooms-Katholiek         |  94291.56               | 441811.5                | \n",
       "| 1593 | 2401                    | Rooms-Katholiek         | 104329.33               | 462505.7                | \n",
       "| 1594 | 2421                    | Rooms-Katholiek         | 114336.51               | 460357.0                | \n",
       "| 1596 | 2725                    | Rooms-Katholiek         |  94198.89               | 454751.8                | \n",
       "| 1597 | 2614                    | Protestants-Christelijk |  82702.87               | 446848.0                | \n",
       "| 1598 | 2625                    | Protestants-Christelijk |  82925.32               | 445528.4                | \n",
       "| 1599 | 2625                    | Protestants-Christelijk |  82925.32               | 445528.4                | \n",
       "\n",
       "\n"
      ],
      "text/plain": [
       "     PC4  DENOMINATIE             X         Y       \n",
       "21   7824 Rooms-Katholiek         258731.5  533917.2\n",
       "24   7902 Protestants-Christelijk 229332.2  526942.5\n",
       "25   7903 Protestants-Christelijk 230467.0  527833.3\n",
       "26   7822 Protestants-Christelijk 257598.1  534933.7\n",
       "45   9406 Protestants-Christelijk 231892.2  557973.9\n",
       "46   9405 Protestants-Christelijk 231985.5  554609.9\n",
       "47   9404 Protestants-Christelijk 235762.2  556213.9\n",
       "48   9411 Protestants-Christelijk 230301.1  541915.0\n",
       "49   9422 Protestants-Christelijk 226773.0  551209.3\n",
       "50   7944 Protestants-Christelijk 208812.5  522321.5\n",
       "61   8321 Protestants-Christelijk 170739.0  519287.4\n",
       "62   8303 Protestants-Christelijk 178521.4  525485.2\n",
       "67   8302 Rooms-Katholiek         178975.0  526050.9\n",
       "72   8251 Protestants-Christelijk 177547.4  504203.0\n",
       "73   8251 Protestants-Christelijk 177547.4  504203.0\n",
       "74   8251 Protestants-Christelijk 177547.4  504203.0\n",
       "88   8302 Protestants-Christelijk 178975.0  526050.9\n",
       "89   8302 Protestants-Christelijk 178975.0  526050.9\n",
       "90   8302 Protestants-Christelijk 178975.0  526050.9\n",
       "91   8321 Protestants-Christelijk 170739.0  519287.4\n",
       "129  9285 Protestants-Christelijk 207145.2  585459.1\n",
       "130  9291 Protestants-Christelijk 206346.7  589139.4\n",
       "131  9103 Protestants-Christelijk 196183.5  592470.5\n",
       "132  9101 Protestants-Christelijk 195835.9  593130.2\n",
       "133  9101 Protestants-Christelijk 195835.9  593130.2\n",
       "134  9172 Protestants-Christelijk 184459.3  594818.4\n",
       "135  9101 Protestants-Christelijk 195835.9  593130.2\n",
       "136  8601 Protestants-Christelijk 172092.0  560719.6\n",
       "137  8601 Protestants-Christelijk 172092.0  560719.6\n",
       "138  8601 Protestants-Christelijk 172092.0  560719.6\n",
       "...  ...  ...                     ...       ...     \n",
       "1566 2215 Rooms-Katholiek          94271.47 471375.4\n",
       "1567 2211 Rooms-Katholiek          94093.31 475844.4\n",
       "1568 2341 Rooms-Katholiek          92551.00 466302.9\n",
       "1569 2221 Rooms-Katholiek          88924.55 469495.4\n",
       "1570 2334 Protestants-Christelijk  93102.05 465515.2\n",
       "1571 2334 Protestants-Christelijk  93102.05 465515.2\n",
       "1572 2353 Protestants-Christelijk  96861.44 464295.9\n",
       "1573 2231 Protestants-Christelijk  90661.54 468286.3\n",
       "1574 2313 Rooms-Katholiek          94304.57 463027.2\n",
       "1575 2371 Rooms-Katholiek         103153.85 467993.8\n",
       "1576 2334 Rooms-Katholiek          93102.05 465515.2\n",
       "1577 2334 Rooms-Katholiek          93102.05 465515.2\n",
       "1578 4205 Protestants-Christelijk 125432.37 428469.2\n",
       "1579 3371 Protestants-Christelijk 117721.61 426758.1\n",
       "1580 4205 Protestants-Christelijk 125432.37 428469.2\n",
       "1581 4204 Protestants-Christelijk 124453.21 427965.3\n",
       "1582 4205 Protestants-Christelijk 125432.37 428469.2\n",
       "1583 4207 Protestants-Christelijk 128258.35 427797.1\n",
       "1584 4143 Protestants-Christelijk 135098.17 435825.2\n",
       "1585 4142 Protestants-Christelijk 133545.02 433654.3\n",
       "1588 2517 Protestants-Christelijk  79535.34 455728.8\n",
       "1589 2551 Protestants-Christelijk  76041.43 452930.4\n",
       "1591 2241 Rooms-Katholiek          87997.13 462820.7\n",
       "1592 3055 Rooms-Katholiek          94291.56 441811.5\n",
       "1593 2401 Rooms-Katholiek         104329.33 462505.7\n",
       "1594 2421 Rooms-Katholiek         114336.51 460357.0\n",
       "1596 2725 Rooms-Katholiek          94198.89 454751.8\n",
       "1597 2614 Protestants-Christelijk  82702.87 446848.0\n",
       "1598 2625 Protestants-Christelijk  82925.32 445528.4\n",
       "1599 2625 Protestants-Christelijk  82925.32 445528.4"
      ]
     },
     "metadata": {},
     "output_type": "display_data"
    }
   ],
   "source": [
    "school_loc2 <- subset(school_loc, DENOMINATIE== \"Rooms-Katholiek\" | DENOMINATIE==\"Protestants-Christelijk\")\n",
    "school_loc2"
   ]
  },
  {
   "cell_type": "markdown",
   "metadata": {},
   "source": [
    "Then using the subset function we select rows where denominatie is equal to Rooms-Katholiek and Christelijk Protestants."
   ]
  },
  {
   "cell_type": "markdown",
   "metadata": {},
   "source": [
    "## Assignment 2e\n",
    "\n",
    "Create a map of Catholic and Protestant schools in the Netherlands\n"
   ]
  },
  {
   "cell_type": "code",
   "execution_count": 343,
   "metadata": {},
   "outputs": [
    {
     "data": {},
     "metadata": {},
     "output_type": "display_data"
    },
    {
     "data": {
      "image/png": "[encoded data removed]",
      "text/plain": [
       "plot without title"
      ]
     },
     "metadata": {},
     "output_type": "display_data"
    }
   ],
   "source": [
    "AddMapLayer(MapPlot(),map_municipal) %>%\n",
    "AddPointsLayer(school_loc2, columnNameColor=\"DENOMINATIE\")"
   ]
  },
  {
   "cell_type": "markdown",
   "metadata": {},
   "source": [
    "We plot the map of the Netherlands in the same way as before and now add a layer of points to show where these schools are. We base the color on the Rooms-Katholiek and Protestants-Christelijk."
   ]
  },
  {
   "cell_type": "markdown",
   "metadata": {},
   "source": [
    "End of notebook"
   ]
  }
 ],
 "metadata": {
  "anaconda-cloud": {},
  "kernelspec": {
   "display_name": "R",
   "language": "R",
   "name": "ir"
  },
  "language_info": {
   "codemirror_mode": "r",
   "file_extension": ".r",
   "mimetype": "text/x-r-source",
   "name": "R",
   "pygments_lexer": "r",
   "version": "3.4.3"
  }
 },
 "nbformat": 4,
 "nbformat_minor": 1
}
