{
 "cells": [
  {
   "cell_type": "markdown",
   "metadata": {},
   "source": [
    "Before you turn this problem in, make sure everything runs as expected. First, **restart the kernel** (in the menubar, select Kernel$\\rightarrow$Restart) and then **run all cells** (in the menubar, select Cell$\\rightarrow$Run All).\n",
    "\n",
    "Make sure you fill in any place that says `YOUR CODE HERE` or \"YOUR ANSWER HERE\", as well as your name and collaborators below:"
   ]
  },
  {
   "cell_type": "code",
   "execution_count": null,
   "metadata": {},
   "outputs": [],
   "source": [
    "NAME = \"\Margot Wolsink"\2009813",
    "COLLABORATORS = \"\""
   ]
  },
  {
   "cell_type": "markdown",
   "metadata": {},
   "source": [
    "---"
   ]
  },
  {
   "cell_type": "markdown",
   "metadata": {},
   "source": [
    "Fill in the cell above to provide us with your name and student number, like\n",
    "\n",
    "NAME = \"Adam Smith, #student number#\"\n",
    "\n",
    "where you replace \"#student number#\" with your ... (very good!)\n",
    "\n",
    "and if you are doing this with someone else (not more than one other person):\n",
    "\n",
    "COLLABORATORS = \"Karl Marx, #student number#\""
   ]
  },
  {
   "cell_type": "markdown",
   "metadata": {},
   "source": [
    "# Assignment 2\n",
    "\n"
   ]
  },
  {
   "cell_type": "markdown",
   "metadata": {},
   "source": [
    "This is the assignment for week 2; abbreviated to \"Assignment 2\". In other words, you did not miss assignment 1 (which does not exist).\n",
    "\n",
    "All assignments, notebooks we discuss in class and the exam (final assignment) are in the same format. So we practice this format here.\n",
    "\n",
    "In the first cell of the notebook, give us your name and student number in the way indicated above. If you do this notebook with --at max.-- one other student, give her/his name and student number as well under \"COLLABORATORS\".\n",
    "\n",
    "Fill in the notebook (see below for code cells and text cells that you need to fill in).\n",
    "\n",
    "If you look at the menus above (File, Edit, View etc.), there is one called \"Cell\". If you click on this, you can change the \"Cell Type\". Choose \"Code\" when you are typing python or R code. Choose \"Markdown\" when you are typing, well, markdown.\n",
    "\n",
    "When you finish the notebook, make sure that you save it. Then put it on github, e.g. by dragging it onto github (see instructions below). \n",
    "\n",
    "Finally, add a link to your README file with the name of the assignment, for this week that is \"Assignment 2\".\n",
    "\n"
   ]
  },
  {
   "cell_type": "markdown",
   "metadata": {},
   "source": [
    "## Markdown"
   ]
  },
  {
   "cell_type": "markdown",
   "metadata": {},
   "source": [
    "In the following cell type in markdown the text with a link and an image that you can find [here](http://janboone.github.io/programming-for-economists/_downloads/markdown_text_programming_for_economists.html).\n",
    "\n",
    "Note that we are interested in seeing bold text, italics and math etc. Use your browser to find the image's address.\n",
    "\n",
    "After you type your text, press SHIFT-ENTER and check whether the text looks the same as [here](http://janboone.github.io/programming-for-economists/_downloads/markdown_text_programming_for_economists.html)."
   ]
  },
  {
   "cell_type": "markdown",
   "metadata": {
    "collapsed": true,
    "deletable": false,
    "nbgrader": {
     "checksum": "0e9b9550308b7c41b93eb07d8dc085cb",
     "grade": true,
     "grade_id": "cell-9a8c25d4f952fec7",
     "locked": false,
     "points": 0,
     "schema_version": 1,
     "solution": true
    }
   },
   "source": [
    "# This is a section\n",
    "## This is a subsection\n",
    "\n",
    "a bullet list looks _like this:_\n",
    "\n",
    "* bullet 1\n",
    "* _bullet 2_\n",
    "* **bullet 3**\n",
    "\n",
    "We can link to this [wonderful page](http://janboone.github.io/programming-for-economists/index.html#contents)\n",
    "\n",
    "And we can a picture to the text as well.\n",
    "\n",
    "![](http://images2.mtv.com/uri/mgid:file:docroot:mtv.com:/crop-images/2013/11/05/the_who_umg.jpg?enlarge=false&maxdimension=1300&matte=true&matteColor=black&quality=0.85)\n",
    "\n",
    "Let's type some math:\n",
    "$$sin(x)+cos(x)=2$$\n",
    "\n",
    "As a rule, I really like this line\n",
    "\n",
    "We are done."
   ]
  },
  {
   "cell_type": "markdown",
   "metadata": {},
   "source": [
    "## Some python\n",
    "\n",
    "Part of the \"fun\" of programming is that sometimes you want to do something that you have not seen before. Then you use \"google\". We will practice this by asking you to do things that you have not seen before, say on datacamp or previous classes. Do not panic and simply google what you need.\n",
    "\n",
    "Then copy paste the solution that you find and adjust it to your needs.\n",
    "\n",
    "Here we are going to use the plotting library `matplotlib`."
   ]
  },
  {
   "cell_type": "code",
   "execution_count": null,
   "metadata": {},
   "outputs": [],
   "source": [
    "import matplotlib.pyplot as plt\n",
    "import numpy as np\n",
    "%matplotlib inline\n",
    "\n",
    "\n",
    "range_x = np.arange(-2,2.01,0.01)\n",
    "plt.plot(range_x,[x**2 for x in range_x])"
   ]
  },
  {
   "cell_type": "markdown",
   "metadata": {},
   "source": [
    "--------\n",
    "\n",
    "**Exercise**\n",
    "\n",
    "Adjust the code above to:\n",
    "\n",
    "* plot $1/x$ instead of $x^2$; note that this implies that you should adjust `range_x` as well; you can plot the function for $x>0$\n",
    "* add a title to the graph, e.g. 'This is the function $1/x$'\n",
    "* add labels on the horizontal and vertical axes with x and y in latex\n",
    "\n",
    "Hint: google \"matplotlib add title\" etc.\n",
    "\n",
    "----------\n"
   ]
  },
  {
   "cell_type": "code",
   "execution_count": 6,
   "metadata": {
    "deletable": false,
    "nbgrader": {
     "checksum": "0cdf032a1d17a6e7096a702e81d44afe",
     "grade": false,
     "grade_id": "cell-1fa939eb4f526510",
     "locked": false,
     "schema_version": 1,
     "solution": true
    }
   },
   "outputs": [
    {
     "data": {
      "image/png": "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\n",
      "text/plain": [
       "<matplotlib.figure.Figure at 0x2313290b358>"
      ]
     },
     "metadata": {},
     "output_type": "display_data"
    },
    {
     "ename": "NotImplementedError",
     "evalue": "",
     "output_type": "error",
     "traceback": [
      "\u001b[1;31m---------------------------------------------------------------------------\u001b[0m",
      "\u001b[1;31mNotImplementedError\u001b[0m                       Traceback (most recent call last)",
      "\u001b[1;32m<ipython-input-6-5ff390c2cbcd>\u001b[0m in \u001b[0;36m<module>\u001b[1;34m()\u001b[0m\n\u001b[0;32m     13\u001b[0m \u001b[0mplt\u001b[0m\u001b[1;33m.\u001b[0m\u001b[0mtitle\u001b[0m\u001b[1;33m(\u001b[0m\u001b[1;34m'This is the function 1/x'\u001b[0m\u001b[1;33m)\u001b[0m\u001b[1;33m\u001b[0m\u001b[0m\n\u001b[0;32m     14\u001b[0m \u001b[0mplt\u001b[0m\u001b[1;33m.\u001b[0m\u001b[0mshow\u001b[0m\u001b[1;33m(\u001b[0m\u001b[1;33m)\u001b[0m\u001b[1;33m\u001b[0m\u001b[0m\n\u001b[1;32m---> 15\u001b[1;33m \u001b[1;32mraise\u001b[0m \u001b[0mNotImplementedError\u001b[0m\u001b[1;33m(\u001b[0m\u001b[1;33m)\u001b[0m\u001b[1;33m\u001b[0m\u001b[0m\n\u001b[0m",
      "\u001b[1;31mNotImplementedError\u001b[0m: "
     ]
    }
   ],
   "source": [
    "import numpy as np\n",
    "import matplotlib.pyplot as plt\n",
    "\n",
    "def f(x):\n",
    "    return 1/x\n",
    "fx_name = r'$f(x)=\\frac{1}{x}$'\n",
    "x=np.linspace(0.01,2.01,101)\n",
    "y=f(x)\n",
    "plt.plot(x, y, label=fx_name)\n",
    "plt.legend(loc='upper left')\n",
    "plt.xlabel('x-axis')\n",
    "plt.ylabel('y-axis')\n",
    "plt.title('This is the function 1/x')\n",
    "plt.show()\n",
    "raise NotImplementedError()"
   ]
  },
  {
   "cell_type": "markdown",
   "metadata": {},
   "source": [
    "## Github\n",
    "\n",
    "After you have finished, we need to upload this notebook on github. Make sure that you upload the file on the github page of each group member."
   ]
  },
  {
   "cell_type": "markdown",
   "metadata": {},
   "source": [
    "Instructions on how to upload this on github can be found [on this page](http://janboone.github.io/programming-for-economists/github.html). This page has two screencasts: one shows how to drag the notebook onto your github page, the other shows how you can use the command line to upload your notebook.\n"
   ]
  },
  {
   "cell_type": "markdown",
   "metadata": {},
   "source": [
    "Remember to update the README file in your repository to include a link to this notebook on github."
   ]
  }
 ],
 "metadata": {
  "anaconda-cloud": {},
  "kernelspec": {
   "display_name": "Python 3",
   "language": "python",
   "name": "python3"
  },
  "language_info": {
   "codemirror_mode": {
    "name": "ipython",
    "version": 3
   },
   "file_extension": ".py",
   "mimetype": "text/x-python",
   "name": "python",
   "nbconvert_exporter": "python",
   "pygments_lexer": "ipython3",
   "version": "3.6.4"
  }
 },
 "nbformat": 4,
 "nbformat_minor": 1
}
