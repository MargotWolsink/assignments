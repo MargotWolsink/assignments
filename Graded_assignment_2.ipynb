{
 "cells": [
  {
   "cell_type": "markdown",
   "metadata": {},
   "source": [
    "# Graded Assignment 2\n",
    "Mark Klik & Misja Mikkers\n",
    "\n",
    "# Packages\n",
    "\n",
    "# Assignment 1\n",
    "\n",
    "First load the `tidyverse` package:"
   ]
  },
  {
   "cell_type": "code",
   "execution_count": 3,
   "metadata": {},
   "outputs": [],
   "source": [
    "library(tidyverse)\n",
    "library(ggplot2)"
   ]
  },
  {
   "cell_type": "markdown",
   "metadata": {},
   "source": [
    "##  Assignment 1a\n",
    "\n",
    "Read the data file _graded_assignment_2.csv_ from disk:"
   ]
  },
  {
   "cell_type": "code",
   "execution_count": 4,
   "metadata": {},
   "outputs": [
    {
     "data": {
      "text/html": [
       "<table>\n",
       "<thead><tr><th scope=col>ID</th><th scope=col>Group</th><th scope=col>FKG</th><th scope=col>DKG</th><th scope=col>Gender</th><th scope=col>Elderly</th><th scope=col>Age</th></tr></thead>\n",
       "<tbody>\n",
       "\t<tr><td>1     </td><td> 5    </td><td>1     </td><td>1     </td><td>male  </td><td>65-   </td><td>20-24 </td></tr>\n",
       "\t<tr><td>2     </td><td> 7    </td><td>1     </td><td>0     </td><td>male  </td><td>65-   </td><td>30-34 </td></tr>\n",
       "\t<tr><td>3     </td><td>33    </td><td>0     </td><td>1     </td><td>female</td><td>65-   </td><td>60-64 </td></tr>\n",
       "\t<tr><td>4     </td><td>34    </td><td>1     </td><td>0     </td><td>female</td><td>65+   </td><td>65-69 </td></tr>\n",
       "\t<tr><td>5     </td><td> 7    </td><td>0     </td><td>1     </td><td>male  </td><td>65-   </td><td>30-34 </td></tr>\n",
       "\t<tr><td>6     </td><td>40    </td><td>1     </td><td>1     </td><td>female</td><td>65+   </td><td>95-99 </td></tr>\n",
       "</tbody>\n",
       "</table>\n"
      ],
      "text/latex": [
       "\\begin{tabular}{r|lllllll}\n",
       " ID & Group & FKG & DKG & Gender & Elderly & Age\\\\\n",
       "\\hline\n",
       "\t 1      &  5     & 1      & 1      & male   & 65-    & 20-24 \\\\\n",
       "\t 2      &  7     & 1      & 0      & male   & 65-    & 30-34 \\\\\n",
       "\t 3      & 33     & 0      & 1      & female & 65-    & 60-64 \\\\\n",
       "\t 4      & 34     & 1      & 0      & female & 65+    & 65-69 \\\\\n",
       "\t 5      &  7     & 0      & 1      & male   & 65-    & 30-34 \\\\\n",
       "\t 6      & 40     & 1      & 1      & female & 65+    & 95-99 \\\\\n",
       "\\end{tabular}\n"
      ],
      "text/markdown": [
       "\n",
       "ID | Group | FKG | DKG | Gender | Elderly | Age | \n",
       "|---|---|---|---|---|---|\n",
       "| 1      |  5     | 1      | 1      | male   | 65-    | 20-24  | \n",
       "| 2      |  7     | 1      | 0      | male   | 65-    | 30-34  | \n",
       "| 3      | 33     | 0      | 1      | female | 65-    | 60-64  | \n",
       "| 4      | 34     | 1      | 0      | female | 65+    | 65-69  | \n",
       "| 5      |  7     | 0      | 1      | male   | 65-    | 30-34  | \n",
       "| 6      | 40     | 1      | 1      | female | 65+    | 95-99  | \n",
       "\n",
       "\n"
      ],
      "text/plain": [
       "  ID Group FKG DKG Gender Elderly Age  \n",
       "1 1   5    1   1   male   65-     20-24\n",
       "2 2   7    1   0   male   65-     30-34\n",
       "3 3  33    0   1   female 65-     60-64\n",
       "4 4  34    1   0   female 65+     65-69\n",
       "5 5   7    0   1   male   65-     30-34\n",
       "6 6  40    1   1   female 65+     95-99"
      ]
     },
     "metadata": {},
     "output_type": "display_data"
    }
   ],
   "source": [
    "data1 <- read.csv2( \"../Sourcedata/graded_assignment_2.csv\")\n",
    "head(data1)"
   ]
  },
  {
   "cell_type": "markdown",
   "metadata": {},
   "source": [
    "## Assignment 1b\n",
    "\n",
    "Add column \"Health_status\" with containing values _1_ (Healthy) and _0_ (Unhealthy).\n",
    "A person is Healthy, when `FKG` equals 0 and `DKG` equals 0.\n",
    "\n",
    "So\n",
    "\n",
    "| FKG | DKG | Health_status   |\n",
    "|-----|-----|--------------   |\n",
    "| 0   | 0   | 1               |\n",
    "| 1   | 0   | 0               |\n",
    "| 0   | 1   | 0               |\n",
    "| 1   | 1   | 0               |\n",
    "\n",
    "Hint: you can use `ifelse()`:"
   ]
  },
  {
   "cell_type": "code",
   "execution_count": 5,
   "metadata": {},
   "outputs": [],
   "source": [
    "data2 <- data1 %>% \n",
    " mutate(Health_status= ifelse(FKG==0 & DKG ==0,1,0))\n",
    "  "
   ]
  },
  {
   "cell_type": "code",
   "execution_count": 6,
   "metadata": {},
   "outputs": [
    {
     "data": {
      "text/html": [
       "<table>\n",
       "<thead><tr><th></th><th scope=col>ID</th><th scope=col>Group</th><th scope=col>FKG</th><th scope=col>DKG</th><th scope=col>Gender</th><th scope=col>Elderly</th><th scope=col>Age</th><th scope=col>Health_status</th></tr></thead>\n",
       "<tbody>\n",
       "\t<tr><th scope=row>9995</th><td> 9995 </td><td>15    </td><td>1     </td><td>1     </td><td>male  </td><td>65+   </td><td>70-74 </td><td>0     </td></tr>\n",
       "\t<tr><th scope=row>9996</th><td> 9996 </td><td> 7    </td><td>1     </td><td>0     </td><td>male  </td><td>65-   </td><td>30-34 </td><td>0     </td></tr>\n",
       "\t<tr><th scope=row>9997</th><td> 9997 </td><td>30    </td><td>0     </td><td>1     </td><td>female</td><td>65-   </td><td>45-49 </td><td>0     </td></tr>\n",
       "\t<tr><th scope=row>9998</th><td> 9998 </td><td>35    </td><td>0     </td><td>0     </td><td>female</td><td>65+   </td><td>70-74 </td><td>1     </td></tr>\n",
       "\t<tr><th scope=row>9999</th><td> 9999 </td><td>31    </td><td>1     </td><td>1     </td><td>female</td><td>65-   </td><td>50-54 </td><td>0     </td></tr>\n",
       "\t<tr><th scope=row>10000</th><td>10000 </td><td> 8    </td><td>0     </td><td>1     </td><td>male  </td><td>65-   </td><td>35-39 </td><td>0     </td></tr>\n",
       "</tbody>\n",
       "</table>\n"
      ],
      "text/latex": [
       "\\begin{tabular}{r|llllllll}\n",
       "  & ID & Group & FKG & DKG & Gender & Elderly & Age & Health\\_status\\\\\n",
       "\\hline\n",
       "\t9995 &  9995  & 15     & 1      & 1      & male   & 65+    & 70-74  & 0     \\\\\n",
       "\t9996 &  9996  &  7     & 1      & 0      & male   & 65-    & 30-34  & 0     \\\\\n",
       "\t9997 &  9997  & 30     & 0      & 1      & female & 65-    & 45-49  & 0     \\\\\n",
       "\t9998 &  9998  & 35     & 0      & 0      & female & 65+    & 70-74  & 1     \\\\\n",
       "\t9999 &  9999  & 31     & 1      & 1      & female & 65-    & 50-54  & 0     \\\\\n",
       "\t10000 & 10000  &  8     & 0      & 1      & male   & 65-    & 35-39  & 0     \\\\\n",
       "\\end{tabular}\n"
      ],
      "text/markdown": [
       "\n",
       "| <!--/--> | ID | Group | FKG | DKG | Gender | Elderly | Age | Health_status | \n",
       "|---|---|---|---|---|---|\n",
       "| 9995 |  9995  | 15     | 1      | 1      | male   | 65+    | 70-74  | 0      | \n",
       "| 9996 |  9996  |  7     | 1      | 0      | male   | 65-    | 30-34  | 0      | \n",
       "| 9997 |  9997  | 30     | 0      | 1      | female | 65-    | 45-49  | 0      | \n",
       "| 9998 |  9998  | 35     | 0      | 0      | female | 65+    | 70-74  | 1      | \n",
       "| 9999 |  9999  | 31     | 1      | 1      | female | 65-    | 50-54  | 0      | \n",
       "| 10000 | 10000  |  8     | 0      | 1      | male   | 65-    | 35-39  | 0      | \n",
       "\n",
       "\n"
      ],
      "text/plain": [
       "      ID    Group FKG DKG Gender Elderly Age   Health_status\n",
       "9995   9995 15    1   1   male   65+     70-74 0            \n",
       "9996   9996  7    1   0   male   65-     30-34 0            \n",
       "9997   9997 30    0   1   female 65-     45-49 0            \n",
       "9998   9998 35    0   0   female 65+     70-74 1            \n",
       "9999   9999 31    1   1   female 65-     50-54 0            \n",
       "10000 10000  8    0   1   male   65-     35-39 0            "
      ]
     },
     "metadata": {},
     "output_type": "display_data"
    }
   ],
   "source": [
    "tail(data2)"
   ]
  },
  {
   "cell_type": "markdown",
   "metadata": {},
   "source": [
    "In the next datacamp course you will learn more about the package `dplyr`. For now we just give you some code. You can run the following script.\n",
    "\n",
    "First, we want to make \"Health_status\" a factor instead of a character"
   ]
  },
  {
   "cell_type": "code",
   "execution_count": 7,
   "metadata": {},
   "outputs": [
    {
     "name": "stdout",
     "output_type": "stream",
     "text": [
      "'data.frame':\t10000 obs. of  8 variables:\n",
      " $ ID           : int  1 2 3 4 5 6 7 8 9 10 ...\n",
      " $ Group        : int  5 7 33 34 7 40 10 17 37 34 ...\n",
      " $ FKG          : int  1 1 0 1 0 1 1 0 0 0 ...\n",
      " $ DKG          : int  1 0 1 0 1 1 0 0 0 1 ...\n",
      " $ Gender       : Factor w/ 2 levels \"female\",\"male\": 2 2 1 1 2 1 2 2 1 1 ...\n",
      " $ Elderly      : Factor w/ 2 levels \"65-\",\"65+\": 1 1 1 2 1 2 1 2 2 2 ...\n",
      " $ Age          : Factor w/ 20 levels \"0-4\",\"10-14\",..: 4 6 13 14 6 20 9 17 17 14 ...\n",
      " $ Health_status: num  0 0 0 0 0 0 0 1 1 0 ...\n"
     ]
    }
   ],
   "source": [
    "data2 <- data2 %>%\n",
    "  mutate(Health_status = as.numeric(Health_status))\n",
    "str(data2)"
   ]
  },
  {
   "cell_type": "markdown",
   "metadata": {},
   "source": [
    "Then, we want to count the number of healthy and unhealthy males and females"
   ]
  },
  {
   "cell_type": "code",
   "execution_count": 8,
   "metadata": {},
   "outputs": [
    {
     "data": {
      "text/html": [
       "<table>\n",
       "<thead><tr><th scope=col>Gender</th><th scope=col>Health_status</th><th scope=col>Count_observations</th></tr></thead>\n",
       "<tbody>\n",
       "\t<tr><td>female</td><td>0     </td><td>3671  </td></tr>\n",
       "\t<tr><td>female</td><td>1     </td><td>1265  </td></tr>\n",
       "\t<tr><td>male  </td><td>0     </td><td>3765  </td></tr>\n",
       "\t<tr><td>male  </td><td>1     </td><td>1299  </td></tr>\n",
       "</tbody>\n",
       "</table>\n"
      ],
      "text/latex": [
       "\\begin{tabular}{r|lll}\n",
       " Gender & Health\\_status & Count\\_observations\\\\\n",
       "\\hline\n",
       "\t female & 0      & 3671  \\\\\n",
       "\t female & 1      & 1265  \\\\\n",
       "\t male   & 0      & 3765  \\\\\n",
       "\t male   & 1      & 1299  \\\\\n",
       "\\end{tabular}\n"
      ],
      "text/markdown": [
       "\n",
       "Gender | Health_status | Count_observations | \n",
       "|---|---|---|---|\n",
       "| female | 0      | 3671   | \n",
       "| female | 1      | 1265   | \n",
       "| male   | 0      | 3765   | \n",
       "| male   | 1      | 1299   | \n",
       "\n",
       "\n"
      ],
      "text/plain": [
       "  Gender Health_status Count_observations\n",
       "1 female 0             3671              \n",
       "2 female 1             1265              \n",
       "3 male   0             3765              \n",
       "4 male   1             1299              "
      ]
     },
     "metadata": {},
     "output_type": "display_data"
    }
   ],
   "source": [
    "data3 <- data2 %>%\n",
    "  group_by(Gender, Health_status) %>%\n",
    " summarise(Count_observations = n()) %>%\n",
    "  mutate(Health_status=as.factor(Health_status))\n",
    "\n",
    "data3"
   ]
  },
  {
   "cell_type": "markdown",
   "metadata": {},
   "source": [
    "## Assignment 2\n",
    "\n",
    "Recreate with the dataframe \"data3\" the following barchart ![](../Sourcedata/barchart.png)\n",
    "\n",
    "* Hint: see for changing the [legends and colors](http://www.cookbook-r.com/Graphs/Legends_(ggplot2)/)\n",
    "* Hint: the \"green\" color is in fact the color \"greenyellow\"\n",
    "* Hint: see for the [themes](http://ggplot2.tidyverse.org/reference/ggtheme.html): \n",
    "\n"
   ]
  },
  {
   "cell_type": "code",
   "execution_count": 43,
   "metadata": {},
   "outputs": [
    {
     "data": {},
     "metadata": {},
     "output_type": "display_data"
    },
    {
     "data": {
      "image/png": "[encoded data removed]",
      "text/plain": [
       "plot without title"
      ]
     },
     "metadata": {},
     "output_type": "display_data"
    }
   ],
   "source": [
    "ggplot(data3, aes(x=Gender, y= Count_observations, fill=Health_status))+ \n",
    "geom_bar(stat=\"identity\",position=\"dodge\")+ \n",
    "theme_classic()+\n",
    "scale_fill_manual(name=\"Health Status\",label=c(\"Unhealthy\",\"Healthy\"), values=c(\"1\"=\"greenyellow\",\"0\"=\"red\"))+\n",
    "               ylab(\"Number\")"
   ]
  },
  {
   "cell_type": "markdown",
   "metadata": {},
   "source": [
    "End notebook"
   ]
  },
  {
   "cell_type": "code",
   "execution_count": null,
   "metadata": {},
   "outputs": [],
   "source": []
  }
 ],
 "metadata": {
  "anaconda-cloud": {},
  "kernelspec": {
   "display_name": "R",
   "language": "R",
   "name": "ir"
  },
  "language_info": {
   "codemirror_mode": "r",
   "file_extension": ".r",
   "mimetype": "text/x-r-source",
   "name": "R",
   "pygments_lexer": "r",
   "version": "3.4.3"
  }
 },
 "nbformat": 4,
 "nbformat_minor": 1
}
